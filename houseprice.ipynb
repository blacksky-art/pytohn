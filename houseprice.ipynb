{
 "cells": [
  {
   "cell_type": "code",
   "execution_count": 46,
   "id": "eb3a6c7a-772b-4c27-a68b-13cf187feabc",
   "metadata": {},
   "outputs": [
    {
     "data": {
      "text/plain": [
       "(14619, 23)"
      ]
     },
     "execution_count": 46,
     "metadata": {},
     "output_type": "execute_result"
    }
   ],
   "source": [
    "\n",
    "import pandas as pd\n",
    "import numpy as np\n",
    "import matplotlib.pyplot as plt\n",
    "import seaborn as sns\n",
    "import warnings\n",
    "warnings.filterwarnings('ignore')\n",
    "%matplotlib inline\n",
    "from sklearn.linear_model import LinearRegression\n",
    "from sklearn.model_selection import train_test_split\n",
    "from sklearn.metrics import mean_squared_error, r2_score\n",
    "\n",
    "ds = pd.read_csv(\"House Price India.csv\")\n",
    "ds.shape"
   ]
  },
  {
   "cell_type": "code",
   "execution_count": 25,
   "id": "37a995e6-ba51-4668-90ad-d6378d709bcf",
   "metadata": {},
   "outputs": [
    {
     "data": {
      "text/plain": [
       "<bound method NDFrame.head of                id   Date  number of bedrooms  number of bathrooms  \\\n",
       "0      6762810635  42491                   4                 2.50   \n",
       "1      6762810998  42491                   5                 2.75   \n",
       "2      6762812605  42491                   4                 2.50   \n",
       "3      6762812919  42491                   3                 2.00   \n",
       "4      6762813105  42491                   3                 2.50   \n",
       "...           ...    ...                 ...                  ...   \n",
       "14614  6762830250  42734                   2                 1.50   \n",
       "14615  6762830339  42734                   3                 2.00   \n",
       "14616  6762830618  42734                   2                 1.00   \n",
       "14617  6762830709  42734                   4                 1.00   \n",
       "14618  6762831463  42734                   3                 1.00   \n",
       "\n",
       "       living area  lot area  number of floors  waterfront present  \\\n",
       "0             2920      4000               1.5                   0   \n",
       "1             2910      9480               1.5                   0   \n",
       "2             3310     42998               2.0                   0   \n",
       "3             2710      4500               1.5                   0   \n",
       "4             2600      4750               1.0                   0   \n",
       "...            ...       ...               ...                 ...   \n",
       "14614         1556     20000               1.0                   0   \n",
       "14615         1680      7000               1.5                   0   \n",
       "14616         1070      6120               1.0                   0   \n",
       "14617         1030      6621               1.0                   0   \n",
       "14618          900      4770               1.0                   0   \n",
       "\n",
       "       number of views  condition of the house  ...  Built Year  \\\n",
       "0                    0                       5  ...        1909   \n",
       "1                    0                       3  ...        1939   \n",
       "2                    0                       3  ...        2001   \n",
       "3                    0                       4  ...        1929   \n",
       "4                    0                       4  ...        1951   \n",
       "...                ...                     ...  ...         ...   \n",
       "14614                0                       4  ...        1957   \n",
       "14615                0                       4  ...        1968   \n",
       "14616                0                       3  ...        1962   \n",
       "14617                0                       4  ...        1955   \n",
       "14618                0                       3  ...        1969   \n",
       "\n",
       "       Renovation Year  Postal Code  Lattitude  Longitude  living_area_renov  \\\n",
       "0                    0       122004    52.8878   -114.470               2470   \n",
       "1                    0       122004    52.8852   -114.468               2940   \n",
       "2                    0       122005    52.9532   -114.321               3350   \n",
       "3                    0       122006    52.9047   -114.485               2060   \n",
       "4                    0       122007    52.9133   -114.590               2380   \n",
       "...                ...          ...        ...        ...                ...   \n",
       "14614                0       122066    52.6191   -114.472               2250   \n",
       "14615                0       122072    52.5075   -114.393               1540   \n",
       "14616                0       122056    52.7289   -114.507               1130   \n",
       "14617                0       122042    52.7157   -114.411               1420   \n",
       "14618             2009       122018    52.5338   -114.552                900   \n",
       "\n",
       "       lot_area_renov  Number of schools nearby  Distance from the airport  \\\n",
       "0                4000                         2                         51   \n",
       "1                6600                         1                         53   \n",
       "2               42847                         3                         76   \n",
       "3                4500                         1                         51   \n",
       "4                4750                         1                         67   \n",
       "...               ...                       ...                        ...   \n",
       "14614           17286                         3                         76   \n",
       "14615            7480                         3                         59   \n",
       "14616            6120                         2                         64   \n",
       "14617            6631                         3                         54   \n",
       "14618            3480                         2                         55   \n",
       "\n",
       "         Price  \n",
       "0      1400000  \n",
       "1      1200000  \n",
       "2       838000  \n",
       "3       805000  \n",
       "4       790000  \n",
       "...        ...  \n",
       "14614   221700  \n",
       "14615   219200  \n",
       "14616   209000  \n",
       "14617   205000  \n",
       "14618   146000  \n",
       "\n",
       "[14619 rows x 23 columns]>"
      ]
     },
     "execution_count": 25,
     "metadata": {},
     "output_type": "execute_result"
    }
   ],
   "source": [
    "ds.head\n"
   ]
  },
  {
   "cell_type": "code",
   "execution_count": 28,
   "id": "744b2da3-1da9-4b20-b373-f5e7ac269d24",
   "metadata": {},
   "outputs": [
    {
     "name": "stdout",
     "output_type": "stream",
     "text": [
      "<class 'pandas.core.frame.DataFrame'>\n",
      "RangeIndex: 14619 entries, 0 to 14618\n",
      "Data columns (total 23 columns):\n",
      " #   Column                                 Non-Null Count  Dtype  \n",
      "---  ------                                 --------------  -----  \n",
      " 0   id                                     14619 non-null  int64  \n",
      " 1   Date                                   14619 non-null  int64  \n",
      " 2   number of bedrooms                     14619 non-null  int64  \n",
      " 3   number of bathrooms                    14619 non-null  float64\n",
      " 4   living area                            14619 non-null  int64  \n",
      " 5   lot area                               14619 non-null  int64  \n",
      " 6   number of floors                       14619 non-null  float64\n",
      " 7   waterfront present                     14619 non-null  int64  \n",
      " 8   number of views                        14619 non-null  int64  \n",
      " 9   condition of the house                 14619 non-null  int64  \n",
      " 10  grade of the house                     14619 non-null  int64  \n",
      " 11  Area of the house(excluding basement)  14619 non-null  int64  \n",
      " 12  Area of the basement                   14619 non-null  int64  \n",
      " 13  Built Year                             14619 non-null  int64  \n",
      " 14  Renovation Year                        14619 non-null  int64  \n",
      " 15  Postal Code                            14619 non-null  int64  \n",
      " 16  Lattitude                              14619 non-null  float64\n",
      " 17  Longitude                              14619 non-null  float64\n",
      " 18  living_area_renov                      14619 non-null  int64  \n",
      " 19  lot_area_renov                         14619 non-null  int64  \n",
      " 20  Number of schools nearby               14619 non-null  int64  \n",
      " 21  Distance from the airport              14619 non-null  int64  \n",
      " 22  Price                                  14619 non-null  int64  \n",
      "dtypes: float64(4), int64(19)\n",
      "memory usage: 2.6 MB\n"
     ]
    }
   ],
   "source": [
    "ds.info()"
   ]
  },
  {
   "cell_type": "code",
   "execution_count": 30,
   "id": "2e9cb97d-03af-4d65-a20a-8acb7d02d82a",
   "metadata": {},
   "outputs": [
    {
     "data": {
      "text/plain": [
       "id                                       0\n",
       "Date                                     0\n",
       "number of bedrooms                       0\n",
       "number of bathrooms                      0\n",
       "living area                              0\n",
       "lot area                                 0\n",
       "number of floors                         0\n",
       "waterfront present                       0\n",
       "number of views                          0\n",
       "condition of the house                   0\n",
       "grade of the house                       0\n",
       "Area of the house(excluding basement)    0\n",
       "Area of the basement                     0\n",
       "Built Year                               0\n",
       "Renovation Year                          0\n",
       "Postal Code                              0\n",
       "Lattitude                                0\n",
       "Longitude                                0\n",
       "living_area_renov                        0\n",
       "lot_area_renov                           0\n",
       "Number of schools nearby                 0\n",
       "Distance from the airport                0\n",
       "Price                                    0\n",
       "dtype: int64"
      ]
     },
     "execution_count": 30,
     "metadata": {},
     "output_type": "execute_result"
    }
   ],
   "source": [
    "ds.isnull().sum()"
   ]
  },
  {
   "cell_type": "code",
   "execution_count": 32,
   "id": "b2edf5ae-93b9-4ce8-9b56-fec274318764",
   "metadata": {
    "scrolled": true
   },
   "outputs": [
    {
     "data": {
      "text/html": [
       "<div>\n",
       "<style scoped>\n",
       "    .dataframe tbody tr th:only-of-type {\n",
       "        vertical-align: middle;\n",
       "    }\n",
       "\n",
       "    .dataframe tbody tr th {\n",
       "        vertical-align: top;\n",
       "    }\n",
       "\n",
       "    .dataframe thead th {\n",
       "        text-align: right;\n",
       "    }\n",
       "</style>\n",
       "<table border=\"1\" class=\"dataframe\">\n",
       "  <thead>\n",
       "    <tr style=\"text-align: right;\">\n",
       "      <th></th>\n",
       "      <th>id</th>\n",
       "      <th>Date</th>\n",
       "      <th>number of bedrooms</th>\n",
       "      <th>number of bathrooms</th>\n",
       "      <th>living area</th>\n",
       "      <th>lot area</th>\n",
       "      <th>number of floors</th>\n",
       "      <th>waterfront present</th>\n",
       "      <th>number of views</th>\n",
       "      <th>condition of the house</th>\n",
       "      <th>...</th>\n",
       "      <th>Built Year</th>\n",
       "      <th>Renovation Year</th>\n",
       "      <th>Postal Code</th>\n",
       "      <th>Lattitude</th>\n",
       "      <th>Longitude</th>\n",
       "      <th>living_area_renov</th>\n",
       "      <th>lot_area_renov</th>\n",
       "      <th>Number of schools nearby</th>\n",
       "      <th>Distance from the airport</th>\n",
       "      <th>Price</th>\n",
       "    </tr>\n",
       "  </thead>\n",
       "  <tbody>\n",
       "    <tr>\n",
       "      <th>0</th>\n",
       "      <td>6762810635</td>\n",
       "      <td>42491</td>\n",
       "      <td>4</td>\n",
       "      <td>2.50</td>\n",
       "      <td>2920</td>\n",
       "      <td>4000</td>\n",
       "      <td>1.5</td>\n",
       "      <td>0</td>\n",
       "      <td>0</td>\n",
       "      <td>5</td>\n",
       "      <td>...</td>\n",
       "      <td>1909</td>\n",
       "      <td>0</td>\n",
       "      <td>122004</td>\n",
       "      <td>52.8878</td>\n",
       "      <td>-114.470</td>\n",
       "      <td>2470</td>\n",
       "      <td>4000</td>\n",
       "      <td>2</td>\n",
       "      <td>51</td>\n",
       "      <td>1400000</td>\n",
       "    </tr>\n",
       "    <tr>\n",
       "      <th>1</th>\n",
       "      <td>6762810998</td>\n",
       "      <td>42491</td>\n",
       "      <td>5</td>\n",
       "      <td>2.75</td>\n",
       "      <td>2910</td>\n",
       "      <td>9480</td>\n",
       "      <td>1.5</td>\n",
       "      <td>0</td>\n",
       "      <td>0</td>\n",
       "      <td>3</td>\n",
       "      <td>...</td>\n",
       "      <td>1939</td>\n",
       "      <td>0</td>\n",
       "      <td>122004</td>\n",
       "      <td>52.8852</td>\n",
       "      <td>-114.468</td>\n",
       "      <td>2940</td>\n",
       "      <td>6600</td>\n",
       "      <td>1</td>\n",
       "      <td>53</td>\n",
       "      <td>1200000</td>\n",
       "    </tr>\n",
       "    <tr>\n",
       "      <th>2</th>\n",
       "      <td>6762812605</td>\n",
       "      <td>42491</td>\n",
       "      <td>4</td>\n",
       "      <td>2.50</td>\n",
       "      <td>3310</td>\n",
       "      <td>42998</td>\n",
       "      <td>2.0</td>\n",
       "      <td>0</td>\n",
       "      <td>0</td>\n",
       "      <td>3</td>\n",
       "      <td>...</td>\n",
       "      <td>2001</td>\n",
       "      <td>0</td>\n",
       "      <td>122005</td>\n",
       "      <td>52.9532</td>\n",
       "      <td>-114.321</td>\n",
       "      <td>3350</td>\n",
       "      <td>42847</td>\n",
       "      <td>3</td>\n",
       "      <td>76</td>\n",
       "      <td>838000</td>\n",
       "    </tr>\n",
       "    <tr>\n",
       "      <th>3</th>\n",
       "      <td>6762812919</td>\n",
       "      <td>42491</td>\n",
       "      <td>3</td>\n",
       "      <td>2.00</td>\n",
       "      <td>2710</td>\n",
       "      <td>4500</td>\n",
       "      <td>1.5</td>\n",
       "      <td>0</td>\n",
       "      <td>0</td>\n",
       "      <td>4</td>\n",
       "      <td>...</td>\n",
       "      <td>1929</td>\n",
       "      <td>0</td>\n",
       "      <td>122006</td>\n",
       "      <td>52.9047</td>\n",
       "      <td>-114.485</td>\n",
       "      <td>2060</td>\n",
       "      <td>4500</td>\n",
       "      <td>1</td>\n",
       "      <td>51</td>\n",
       "      <td>805000</td>\n",
       "    </tr>\n",
       "    <tr>\n",
       "      <th>4</th>\n",
       "      <td>6762813105</td>\n",
       "      <td>42491</td>\n",
       "      <td>3</td>\n",
       "      <td>2.50</td>\n",
       "      <td>2600</td>\n",
       "      <td>4750</td>\n",
       "      <td>1.0</td>\n",
       "      <td>0</td>\n",
       "      <td>0</td>\n",
       "      <td>4</td>\n",
       "      <td>...</td>\n",
       "      <td>1951</td>\n",
       "      <td>0</td>\n",
       "      <td>122007</td>\n",
       "      <td>52.9133</td>\n",
       "      <td>-114.590</td>\n",
       "      <td>2380</td>\n",
       "      <td>4750</td>\n",
       "      <td>1</td>\n",
       "      <td>67</td>\n",
       "      <td>790000</td>\n",
       "    </tr>\n",
       "    <tr>\n",
       "      <th>...</th>\n",
       "      <td>...</td>\n",
       "      <td>...</td>\n",
       "      <td>...</td>\n",
       "      <td>...</td>\n",
       "      <td>...</td>\n",
       "      <td>...</td>\n",
       "      <td>...</td>\n",
       "      <td>...</td>\n",
       "      <td>...</td>\n",
       "      <td>...</td>\n",
       "      <td>...</td>\n",
       "      <td>...</td>\n",
       "      <td>...</td>\n",
       "      <td>...</td>\n",
       "      <td>...</td>\n",
       "      <td>...</td>\n",
       "      <td>...</td>\n",
       "      <td>...</td>\n",
       "      <td>...</td>\n",
       "      <td>...</td>\n",
       "      <td>...</td>\n",
       "    </tr>\n",
       "    <tr>\n",
       "      <th>14614</th>\n",
       "      <td>6762830250</td>\n",
       "      <td>42734</td>\n",
       "      <td>2</td>\n",
       "      <td>1.50</td>\n",
       "      <td>1556</td>\n",
       "      <td>20000</td>\n",
       "      <td>1.0</td>\n",
       "      <td>0</td>\n",
       "      <td>0</td>\n",
       "      <td>4</td>\n",
       "      <td>...</td>\n",
       "      <td>1957</td>\n",
       "      <td>0</td>\n",
       "      <td>122066</td>\n",
       "      <td>52.6191</td>\n",
       "      <td>-114.472</td>\n",
       "      <td>2250</td>\n",
       "      <td>17286</td>\n",
       "      <td>3</td>\n",
       "      <td>76</td>\n",
       "      <td>221700</td>\n",
       "    </tr>\n",
       "    <tr>\n",
       "      <th>14615</th>\n",
       "      <td>6762830339</td>\n",
       "      <td>42734</td>\n",
       "      <td>3</td>\n",
       "      <td>2.00</td>\n",
       "      <td>1680</td>\n",
       "      <td>7000</td>\n",
       "      <td>1.5</td>\n",
       "      <td>0</td>\n",
       "      <td>0</td>\n",
       "      <td>4</td>\n",
       "      <td>...</td>\n",
       "      <td>1968</td>\n",
       "      <td>0</td>\n",
       "      <td>122072</td>\n",
       "      <td>52.5075</td>\n",
       "      <td>-114.393</td>\n",
       "      <td>1540</td>\n",
       "      <td>7480</td>\n",
       "      <td>3</td>\n",
       "      <td>59</td>\n",
       "      <td>219200</td>\n",
       "    </tr>\n",
       "    <tr>\n",
       "      <th>14616</th>\n",
       "      <td>6762830618</td>\n",
       "      <td>42734</td>\n",
       "      <td>2</td>\n",
       "      <td>1.00</td>\n",
       "      <td>1070</td>\n",
       "      <td>6120</td>\n",
       "      <td>1.0</td>\n",
       "      <td>0</td>\n",
       "      <td>0</td>\n",
       "      <td>3</td>\n",
       "      <td>...</td>\n",
       "      <td>1962</td>\n",
       "      <td>0</td>\n",
       "      <td>122056</td>\n",
       "      <td>52.7289</td>\n",
       "      <td>-114.507</td>\n",
       "      <td>1130</td>\n",
       "      <td>6120</td>\n",
       "      <td>2</td>\n",
       "      <td>64</td>\n",
       "      <td>209000</td>\n",
       "    </tr>\n",
       "    <tr>\n",
       "      <th>14617</th>\n",
       "      <td>6762830709</td>\n",
       "      <td>42734</td>\n",
       "      <td>4</td>\n",
       "      <td>1.00</td>\n",
       "      <td>1030</td>\n",
       "      <td>6621</td>\n",
       "      <td>1.0</td>\n",
       "      <td>0</td>\n",
       "      <td>0</td>\n",
       "      <td>4</td>\n",
       "      <td>...</td>\n",
       "      <td>1955</td>\n",
       "      <td>0</td>\n",
       "      <td>122042</td>\n",
       "      <td>52.7157</td>\n",
       "      <td>-114.411</td>\n",
       "      <td>1420</td>\n",
       "      <td>6631</td>\n",
       "      <td>3</td>\n",
       "      <td>54</td>\n",
       "      <td>205000</td>\n",
       "    </tr>\n",
       "    <tr>\n",
       "      <th>14618</th>\n",
       "      <td>6762831463</td>\n",
       "      <td>42734</td>\n",
       "      <td>3</td>\n",
       "      <td>1.00</td>\n",
       "      <td>900</td>\n",
       "      <td>4770</td>\n",
       "      <td>1.0</td>\n",
       "      <td>0</td>\n",
       "      <td>0</td>\n",
       "      <td>3</td>\n",
       "      <td>...</td>\n",
       "      <td>1969</td>\n",
       "      <td>2009</td>\n",
       "      <td>122018</td>\n",
       "      <td>52.5338</td>\n",
       "      <td>-114.552</td>\n",
       "      <td>900</td>\n",
       "      <td>3480</td>\n",
       "      <td>2</td>\n",
       "      <td>55</td>\n",
       "      <td>146000</td>\n",
       "    </tr>\n",
       "  </tbody>\n",
       "</table>\n",
       "<p>14619 rows × 23 columns</p>\n",
       "</div>"
      ],
      "text/plain": [
       "               id   Date  number of bedrooms  number of bathrooms  \\\n",
       "0      6762810635  42491                   4                 2.50   \n",
       "1      6762810998  42491                   5                 2.75   \n",
       "2      6762812605  42491                   4                 2.50   \n",
       "3      6762812919  42491                   3                 2.00   \n",
       "4      6762813105  42491                   3                 2.50   \n",
       "...           ...    ...                 ...                  ...   \n",
       "14614  6762830250  42734                   2                 1.50   \n",
       "14615  6762830339  42734                   3                 2.00   \n",
       "14616  6762830618  42734                   2                 1.00   \n",
       "14617  6762830709  42734                   4                 1.00   \n",
       "14618  6762831463  42734                   3                 1.00   \n",
       "\n",
       "       living area  lot area  number of floors  waterfront present  \\\n",
       "0             2920      4000               1.5                   0   \n",
       "1             2910      9480               1.5                   0   \n",
       "2             3310     42998               2.0                   0   \n",
       "3             2710      4500               1.5                   0   \n",
       "4             2600      4750               1.0                   0   \n",
       "...            ...       ...               ...                 ...   \n",
       "14614         1556     20000               1.0                   0   \n",
       "14615         1680      7000               1.5                   0   \n",
       "14616         1070      6120               1.0                   0   \n",
       "14617         1030      6621               1.0                   0   \n",
       "14618          900      4770               1.0                   0   \n",
       "\n",
       "       number of views  condition of the house  ...  Built Year  \\\n",
       "0                    0                       5  ...        1909   \n",
       "1                    0                       3  ...        1939   \n",
       "2                    0                       3  ...        2001   \n",
       "3                    0                       4  ...        1929   \n",
       "4                    0                       4  ...        1951   \n",
       "...                ...                     ...  ...         ...   \n",
       "14614                0                       4  ...        1957   \n",
       "14615                0                       4  ...        1968   \n",
       "14616                0                       3  ...        1962   \n",
       "14617                0                       4  ...        1955   \n",
       "14618                0                       3  ...        1969   \n",
       "\n",
       "       Renovation Year  Postal Code  Lattitude  Longitude  living_area_renov  \\\n",
       "0                    0       122004    52.8878   -114.470               2470   \n",
       "1                    0       122004    52.8852   -114.468               2940   \n",
       "2                    0       122005    52.9532   -114.321               3350   \n",
       "3                    0       122006    52.9047   -114.485               2060   \n",
       "4                    0       122007    52.9133   -114.590               2380   \n",
       "...                ...          ...        ...        ...                ...   \n",
       "14614                0       122066    52.6191   -114.472               2250   \n",
       "14615                0       122072    52.5075   -114.393               1540   \n",
       "14616                0       122056    52.7289   -114.507               1130   \n",
       "14617                0       122042    52.7157   -114.411               1420   \n",
       "14618             2009       122018    52.5338   -114.552                900   \n",
       "\n",
       "       lot_area_renov  Number of schools nearby  Distance from the airport  \\\n",
       "0                4000                         2                         51   \n",
       "1                6600                         1                         53   \n",
       "2               42847                         3                         76   \n",
       "3                4500                         1                         51   \n",
       "4                4750                         1                         67   \n",
       "...               ...                       ...                        ...   \n",
       "14614           17286                         3                         76   \n",
       "14615            7480                         3                         59   \n",
       "14616            6120                         2                         64   \n",
       "14617            6631                         3                         54   \n",
       "14618            3480                         2                         55   \n",
       "\n",
       "         Price  \n",
       "0      1400000  \n",
       "1      1200000  \n",
       "2       838000  \n",
       "3       805000  \n",
       "4       790000  \n",
       "...        ...  \n",
       "14614   221700  \n",
       "14615   219200  \n",
       "14616   209000  \n",
       "14617   205000  \n",
       "14618   146000  \n",
       "\n",
       "[14619 rows x 23 columns]"
      ]
     },
     "execution_count": 32,
     "metadata": {},
     "output_type": "execute_result"
    }
   ],
   "source": [
    "ds.dropna()"
   ]
  },
  {
   "cell_type": "code",
   "execution_count": 40,
   "id": "3fa562c0-8310-4f1d-9118-8a54d2743aab",
   "metadata": {},
   "outputs": [],
   "source": [
    "f = ['number of bedrooms','number of bathrooms','living area','lot area','number of floors','condition of the house','Built Year','Distance from the airport','Number of schools nearby']\n",
    "a = ds[f]\n",
    "b = ds['Price']"
   ]
  },
  {
   "cell_type": "code",
   "execution_count": 54,
   "id": "b9493170-fae5-48b5-8aae-91a6e9817d93",
   "metadata": {},
   "outputs": [
    {
     "data": {
      "text/html": [
       "<style>#sk-container-id-2 {color: black;}#sk-container-id-2 pre{padding: 0;}#sk-container-id-2 div.sk-toggleable {background-color: white;}#sk-container-id-2 label.sk-toggleable__label {cursor: pointer;display: block;width: 100%;margin-bottom: 0;padding: 0.3em;box-sizing: border-box;text-align: center;}#sk-container-id-2 label.sk-toggleable__label-arrow:before {content: \"▸\";float: left;margin-right: 0.25em;color: #696969;}#sk-container-id-2 label.sk-toggleable__label-arrow:hover:before {color: black;}#sk-container-id-2 div.sk-estimator:hover label.sk-toggleable__label-arrow:before {color: black;}#sk-container-id-2 div.sk-toggleable__content {max-height: 0;max-width: 0;overflow: hidden;text-align: left;background-color: #f0f8ff;}#sk-container-id-2 div.sk-toggleable__content pre {margin: 0.2em;color: black;border-radius: 0.25em;background-color: #f0f8ff;}#sk-container-id-2 input.sk-toggleable__control:checked~div.sk-toggleable__content {max-height: 200px;max-width: 100%;overflow: auto;}#sk-container-id-2 input.sk-toggleable__control:checked~label.sk-toggleable__label-arrow:before {content: \"▾\";}#sk-container-id-2 div.sk-estimator input.sk-toggleable__control:checked~label.sk-toggleable__label {background-color: #d4ebff;}#sk-container-id-2 div.sk-label input.sk-toggleable__control:checked~label.sk-toggleable__label {background-color: #d4ebff;}#sk-container-id-2 input.sk-hidden--visually {border: 0;clip: rect(1px 1px 1px 1px);clip: rect(1px, 1px, 1px, 1px);height: 1px;margin: -1px;overflow: hidden;padding: 0;position: absolute;width: 1px;}#sk-container-id-2 div.sk-estimator {font-family: monospace;background-color: #f0f8ff;border: 1px dotted black;border-radius: 0.25em;box-sizing: border-box;margin-bottom: 0.5em;}#sk-container-id-2 div.sk-estimator:hover {background-color: #d4ebff;}#sk-container-id-2 div.sk-parallel-item::after {content: \"\";width: 100%;border-bottom: 1px solid gray;flex-grow: 1;}#sk-container-id-2 div.sk-label:hover label.sk-toggleable__label {background-color: #d4ebff;}#sk-container-id-2 div.sk-serial::before {content: \"\";position: absolute;border-left: 1px solid gray;box-sizing: border-box;top: 0;bottom: 0;left: 50%;z-index: 0;}#sk-container-id-2 div.sk-serial {display: flex;flex-direction: column;align-items: center;background-color: white;padding-right: 0.2em;padding-left: 0.2em;position: relative;}#sk-container-id-2 div.sk-item {position: relative;z-index: 1;}#sk-container-id-2 div.sk-parallel {display: flex;align-items: stretch;justify-content: center;background-color: white;position: relative;}#sk-container-id-2 div.sk-item::before, #sk-container-id-2 div.sk-parallel-item::before {content: \"\";position: absolute;border-left: 1px solid gray;box-sizing: border-box;top: 0;bottom: 0;left: 50%;z-index: -1;}#sk-container-id-2 div.sk-parallel-item {display: flex;flex-direction: column;z-index: 1;position: relative;background-color: white;}#sk-container-id-2 div.sk-parallel-item:first-child::after {align-self: flex-end;width: 50%;}#sk-container-id-2 div.sk-parallel-item:last-child::after {align-self: flex-start;width: 50%;}#sk-container-id-2 div.sk-parallel-item:only-child::after {width: 0;}#sk-container-id-2 div.sk-dashed-wrapped {border: 1px dashed gray;margin: 0 0.4em 0.5em 0.4em;box-sizing: border-box;padding-bottom: 0.4em;background-color: white;}#sk-container-id-2 div.sk-label label {font-family: monospace;font-weight: bold;display: inline-block;line-height: 1.2em;}#sk-container-id-2 div.sk-label-container {text-align: center;}#sk-container-id-2 div.sk-container {/* jupyter's `normalize.less` sets `[hidden] { display: none; }` but bootstrap.min.css set `[hidden] { display: none !important; }` so we also need the `!important` here to be able to override the default hidden behavior on the sphinx rendered scikit-learn.org. See: https://github.com/scikit-learn/scikit-learn/issues/21755 */display: inline-block !important;position: relative;}#sk-container-id-2 div.sk-text-repr-fallback {display: none;}</style><div id=\"sk-container-id-2\" class=\"sk-top-container\"><div class=\"sk-text-repr-fallback\"><pre>LinearRegression()</pre><b>In a Jupyter environment, please rerun this cell to show the HTML representation or trust the notebook. <br />On GitHub, the HTML representation is unable to render, please try loading this page with nbviewer.org.</b></div><div class=\"sk-container\" hidden><div class=\"sk-item\"><div class=\"sk-estimator sk-toggleable\"><input class=\"sk-toggleable__control sk-hidden--visually\" id=\"sk-estimator-id-2\" type=\"checkbox\" checked><label for=\"sk-estimator-id-2\" class=\"sk-toggleable__label sk-toggleable__label-arrow\">LinearRegression</label><div class=\"sk-toggleable__content\"><pre>LinearRegression()</pre></div></div></div></div></div>"
      ],
      "text/plain": [
       "LinearRegression()"
      ]
     },
     "execution_count": 54,
     "metadata": {},
     "output_type": "execute_result"
    }
   ],
   "source": [
    "a_train, a_test, b_train, b_test = train_test_split(a, b, test_size=0.2, random_state=42)\n",
    "\n",
    "model = LinearRegression()\n",
    "model.fit(a_train, b_train)\n"
   ]
  },
  {
   "cell_type": "code",
   "execution_count": 56,
   "id": "86bfa7a2-1199-41c9-8928-993682a6d95e",
   "metadata": {},
   "outputs": [
    {
     "name": "stdout",
     "output_type": "stream",
     "text": [
      "R^2 Score: 0.5904552146987075\n",
      "Mean Squared Error: 60611019364.87399\n"
     ]
    }
   ],
   "source": [
    "b_pred = model.predict(a_test)\n",
    "\n",
    "print(\"R^2 Score:\", r2_score(b_test, b_pred))\n",
    "print(\"Mean Squared Error:\", mean_squared_error(b_test, b_pred))\n"
   ]
  },
  {
   "cell_type": "code",
   "execution_count": 60,
   "id": "f1623703-c8ee-45bc-9ed6-96fea47a7cef",
   "metadata": {},
   "outputs": [
    {
     "name": "stdout",
     "output_type": "stream",
     "text": [
      "Predicted House Price: $ -250676.16740689706\n"
     ]
    }
   ],
   "source": [
    "sample = np.array([[5, 2, 3, 8000, 2, 5,2005,55,1]])  # Example input\n",
    "predicted_price = model.predict(sample)\n",
    "print(\"Predicted House Price: $\", predicted_price[0])\n"
   ]
  },
  {
   "cell_type": "code",
   "execution_count": 64,
   "id": "2ce87f8c-e0a1-4b31-bf4f-d911b607f7af",
   "metadata": {},
   "outputs": [
    {
     "name": "stdout",
     "output_type": "stream",
     "text": [
      "\n",
      "Matrix Operations Menu:\n",
      "1. Addition\n",
      "2. Subtraction\n",
      "3. Multiplication\n",
      "4. Transpose\n",
      "5. Determinant\n",
      "6. Exit\n"
     ]
    },
    {
     "name": "stdin",
     "output_type": "stream",
     "text": [
      "Choose an option (1-6):  1\n",
      "Enter rows for Matrix A:  2\n",
      "Enter columns for Matrix A:  2\n"
     ]
    },
    {
     "name": "stdout",
     "output_type": "stream",
     "text": [
      "Enter elements for Matrix A row-wise:\n"
     ]
    },
    {
     "name": "stdin",
     "output_type": "stream",
     "text": [
      " 1 2 3 4\n",
      "Enter rows for Matrix B:  2\n",
      "Enter columns for Matrix B:  2\n"
     ]
    },
    {
     "name": "stdout",
     "output_type": "stream",
     "text": [
      "Enter elements for Matrix B row-wise:\n"
     ]
    },
    {
     "name": "stdin",
     "output_type": "stream",
     "text": [
      " 1 2 3 4\n"
     ]
    },
    {
     "name": "stdout",
     "output_type": "stream",
     "text": [
      "Result:\n",
      " [[2. 4.]\n",
      " [6. 8.]]\n",
      "\n",
      "Matrix Operations Menu:\n",
      "1. Addition\n",
      "2. Subtraction\n",
      "3. Multiplication\n",
      "4. Transpose\n",
      "5. Determinant\n",
      "6. Exit\n"
     ]
    },
    {
     "name": "stdin",
     "output_type": "stream",
     "text": [
      "Choose an option (1-6):  2\n",
      "Enter rows for Matrix A:  2\n",
      "Enter columns for Matrix A:  2\n"
     ]
    },
    {
     "name": "stdout",
     "output_type": "stream",
     "text": [
      "Enter elements for Matrix A row-wise:\n"
     ]
    },
    {
     "name": "stdin",
     "output_type": "stream",
     "text": [
      " 3 4 2 7\n",
      "Enter rows for Matrix B:  2\n",
      "Enter columns for Matrix B:  2\n"
     ]
    },
    {
     "name": "stdout",
     "output_type": "stream",
     "text": [
      "Enter elements for Matrix B row-wise:\n"
     ]
    },
    {
     "name": "stdin",
     "output_type": "stream",
     "text": [
      " 1 7 5 4\n"
     ]
    },
    {
     "name": "stdout",
     "output_type": "stream",
     "text": [
      "Result:\n",
      " [[ 2. -3.]\n",
      " [-3.  3.]]\n",
      "\n",
      "Matrix Operations Menu:\n",
      "1. Addition\n",
      "2. Subtraction\n",
      "3. Multiplication\n",
      "4. Transpose\n",
      "5. Determinant\n",
      "6. Exit\n"
     ]
    },
    {
     "name": "stdin",
     "output_type": "stream",
     "text": [
      "Choose an option (1-6):  3\n",
      "Enter rows for Matrix A:  2\n",
      "Enter columns for Matrix A:  2\n"
     ]
    },
    {
     "name": "stdout",
     "output_type": "stream",
     "text": [
      "Enter elements for Matrix A row-wise:\n"
     ]
    },
    {
     "name": "stdin",
     "output_type": "stream",
     "text": [
      " 2 3 5 1\n",
      "Enter rows for Matrix B:  2 \n",
      "Enter columns for Matrix B:  2\n"
     ]
    },
    {
     "name": "stdout",
     "output_type": "stream",
     "text": [
      "Enter elements for Matrix B row-wise:\n"
     ]
    },
    {
     "name": "stdin",
     "output_type": "stream",
     "text": [
      " 7 6 4 3\n"
     ]
    },
    {
     "name": "stdout",
     "output_type": "stream",
     "text": [
      "Result:\n",
      " [[26. 21.]\n",
      " [39. 33.]]\n",
      "\n",
      "Matrix Operations Menu:\n",
      "1. Addition\n",
      "2. Subtraction\n",
      "3. Multiplication\n",
      "4. Transpose\n",
      "5. Determinant\n",
      "6. Exit\n"
     ]
    },
    {
     "name": "stdin",
     "output_type": "stream",
     "text": [
      "Choose an option (1-6):  5\n",
      "Enter rows for Square Matrix:  1 2 3 4 5 6\n"
     ]
    },
    {
     "ename": "ValueError",
     "evalue": "invalid literal for int() with base 10: '1 2 3 4 5 6'",
     "output_type": "error",
     "traceback": [
      "\u001b[1;31m---------------------------------------------------------------------------\u001b[0m",
      "\u001b[1;31mValueError\u001b[0m                                Traceback (most recent call last)",
      "Cell \u001b[1;32mIn[64], line 53\u001b[0m\n\u001b[0;32m     50\u001b[0m         \u001b[38;5;28;01melse\u001b[39;00m:\n\u001b[0;32m     51\u001b[0m             \u001b[38;5;28mprint\u001b[39m(\u001b[38;5;124m\"\u001b[39m\u001b[38;5;124mInvalid choice. Try again.\u001b[39m\u001b[38;5;124m\"\u001b[39m)\n\u001b[1;32m---> 53\u001b[0m matrix_operations()\n",
      "Cell \u001b[1;32mIn[64], line 40\u001b[0m, in \u001b[0;36mmatrix_operations\u001b[1;34m()\u001b[0m\n\u001b[0;32m     37\u001b[0m     \u001b[38;5;28mprint\u001b[39m(\u001b[38;5;124m\"\u001b[39m\u001b[38;5;124mTranspose:\u001b[39m\u001b[38;5;130;01m\\n\u001b[39;00m\u001b[38;5;124m\"\u001b[39m, A\u001b[38;5;241m.\u001b[39mT)\n\u001b[0;32m     39\u001b[0m \u001b[38;5;28;01melif\u001b[39;00m choice \u001b[38;5;241m==\u001b[39m \u001b[38;5;124m'\u001b[39m\u001b[38;5;124m5\u001b[39m\u001b[38;5;124m'\u001b[39m:\n\u001b[1;32m---> 40\u001b[0m     A \u001b[38;5;241m=\u001b[39m get_matrix(\u001b[38;5;124m\"\u001b[39m\u001b[38;5;124mSquare Matrix\u001b[39m\u001b[38;5;124m\"\u001b[39m)\n\u001b[0;32m     41\u001b[0m     \u001b[38;5;28;01mif\u001b[39;00m A\u001b[38;5;241m.\u001b[39mshape[\u001b[38;5;241m0\u001b[39m] \u001b[38;5;241m!=\u001b[39m A\u001b[38;5;241m.\u001b[39mshape[\u001b[38;5;241m1\u001b[39m]:\n\u001b[0;32m     42\u001b[0m         \u001b[38;5;28mprint\u001b[39m(\u001b[38;5;124m\"\u001b[39m\u001b[38;5;124mDeterminant requires a square matrix.\u001b[39m\u001b[38;5;124m\"\u001b[39m)\n",
      "Cell \u001b[1;32mIn[64], line 2\u001b[0m, in \u001b[0;36mget_matrix\u001b[1;34m(prompt)\u001b[0m\n\u001b[0;32m      1\u001b[0m \u001b[38;5;28;01mdef\u001b[39;00m \u001b[38;5;21mget_matrix\u001b[39m(prompt):\n\u001b[1;32m----> 2\u001b[0m     r \u001b[38;5;241m=\u001b[39m \u001b[38;5;28mint\u001b[39m(\u001b[38;5;28minput\u001b[39m(\u001b[38;5;124mf\u001b[39m\u001b[38;5;124m\"\u001b[39m\u001b[38;5;124mEnter rows for \u001b[39m\u001b[38;5;132;01m{\u001b[39;00mprompt\u001b[38;5;132;01m}\u001b[39;00m\u001b[38;5;124m: \u001b[39m\u001b[38;5;124m\"\u001b[39m))\n\u001b[0;32m      3\u001b[0m     c \u001b[38;5;241m=\u001b[39m \u001b[38;5;28mint\u001b[39m(\u001b[38;5;28minput\u001b[39m(\u001b[38;5;124mf\u001b[39m\u001b[38;5;124m\"\u001b[39m\u001b[38;5;124mEnter columns for \u001b[39m\u001b[38;5;132;01m{\u001b[39;00mprompt\u001b[38;5;132;01m}\u001b[39;00m\u001b[38;5;124m: \u001b[39m\u001b[38;5;124m\"\u001b[39m))\n\u001b[0;32m      4\u001b[0m     \u001b[38;5;28mprint\u001b[39m(\u001b[38;5;124mf\u001b[39m\u001b[38;5;124m\"\u001b[39m\u001b[38;5;124mEnter elements for \u001b[39m\u001b[38;5;132;01m{\u001b[39;00mprompt\u001b[38;5;132;01m}\u001b[39;00m\u001b[38;5;124m row-wise:\u001b[39m\u001b[38;5;124m\"\u001b[39m)\n",
      "\u001b[1;31mValueError\u001b[0m: invalid literal for int() with base 10: '1 2 3 4 5 6'"
     ]
    }
   ],
   "source": [
    "\n",
    "\n",
    "def get_matrix(prompt):\n",
    "    r = int(input(f\"Enter rows for {prompt}: \"))\n",
    "    c = int(input(f\"Enter columns for {prompt}: \"))\n",
    "    print(f\"Enter elements for {prompt} row-wise:\")\n",
    "    elements = list(map(float, input().split()))\n",
    "    return np.array(elements).reshape(r, c)\n",
    "\n",
    "def matrix_operations():\n",
    "    while True:\n",
    "        print(\"\\nMatrix Operations Menu:\")\n",
    "        print(\"1. Addition\")\n",
    "        print(\"2. Subtraction\")\n",
    "        print(\"3. Multiplication\")\n",
    "        print(\"4. Transpose\")\n",
    "        print(\"5. Determinant\")\n",
    "        print(\"6. Exit\")\n",
    "        choice = input(\"Choose an option (1-6): \")\n",
    "\n",
    "        if choice in ['1', '2', '3']:\n",
    "            A = get_matrix(\"Matrix A\")\n",
    "            B = get_matrix(\"Matrix B\")\n",
    "            if A.shape != B.shape and choice in ['1', '2']:\n",
    "                print(\"Matrix dimensions must be same for addition/subtraction.\")\n",
    "                continue\n",
    "            if choice == '1':\n",
    "                print(\"Result:\\n\", A + B)\n",
    "            elif choice == '2':\n",
    "                print(\"Result:\\n\", A - B)\n",
    "            elif choice == '3':\n",
    "                if A.shape[1] != B.shape[0]:\n",
    "                    print(\"Invalid dimensions for multiplication.\")\n",
    "                else:\n",
    "                    print(\"Result:\\n\", A @ B)\n",
    "\n",
    "        elif choice == '4':\n",
    "            A = get_matrix(\"Matrix\")\n",
    "            print(\"Transpose:\\n\", A.T)\n",
    "\n",
    "        elif choice == '5':\n",
    "            A = get_matrix(\"Square Matrix\")\n",
    "            if A.shape[0] != A.shape[1]:\n",
    "                print(\"Determinant requires a square matrix.\")\n",
    "            else:\n",
    "                print(\"Determinant:\", np.linalg.det(A))\n",
    "\n",
    "        elif choice == '6':\n",
    "            print(\"Exiting Matrix Operations Tool.\")\n",
    "            break\n",
    "\n",
    "        else:\n",
    "            print(\"Invalid choice. Try again.\")\n",
    "\n",
    "matrix_operations()\n"
   ]
  },
  {
   "cell_type": "code",
   "execution_count": 66,
   "id": "5699d4a3-bafc-4894-a9cc-2f26521a15dc",
   "metadata": {},
   "outputs": [
    {
     "name": "stdout",
     "output_type": "stream",
     "text": [
      "\n",
      "Matrix Operations Menu:\n",
      "1. Addition\n",
      "2. Subtraction\n",
      "3. Multiplication\n",
      "4. Transpose\n",
      "5. Determinant\n",
      "6. Exit\n"
     ]
    },
    {
     "name": "stdin",
     "output_type": "stream",
     "text": [
      "Choose an option (1-6):  5\n",
      "Enter rows for Square Matrix:  2\n",
      "Enter columns for Square Matrix:  2\n"
     ]
    },
    {
     "name": "stdout",
     "output_type": "stream",
     "text": [
      "Enter elements for Square Matrix row-wise:\n"
     ]
    },
    {
     "name": "stdin",
     "output_type": "stream",
     "text": [
      " 1 2 3 4\n"
     ]
    },
    {
     "name": "stdout",
     "output_type": "stream",
     "text": [
      "Determinant: -2.0000000000000004\n",
      "\n",
      "Matrix Operations Menu:\n",
      "1. Addition\n",
      "2. Subtraction\n",
      "3. Multiplication\n",
      "4. Transpose\n",
      "5. Determinant\n",
      "6. Exit\n"
     ]
    },
    {
     "name": "stdin",
     "output_type": "stream",
     "text": [
      "Choose an option (1-6):  6\n"
     ]
    },
    {
     "name": "stdout",
     "output_type": "stream",
     "text": [
      "Exiting Matrix Operations Tool.\n"
     ]
    }
   ],
   "source": [
    "\n",
    "def get_matrix(prompt):\n",
    "    r = int(input(f\"Enter rows for {prompt}: \"))\n",
    "    c = int(input(f\"Enter columns for {prompt}: \"))\n",
    "    print(f\"Enter elements for {prompt} row-wise:\")\n",
    "    elements = list(map(float, input().split()))\n",
    "    return np.array(elements).reshape(r, c)\n",
    "\n",
    "def matrix_operations():\n",
    "    while True:\n",
    "        print(\"\\nMatrix Operations Menu:\")\n",
    "        print(\"1. Addition\")\n",
    "        print(\"2. Subtraction\")\n",
    "        print(\"3. Multiplication\")\n",
    "        print(\"4. Transpose\")\n",
    "        print(\"5. Determinant\")\n",
    "        print(\"6. Exit\")\n",
    "        choice = input(\"Choose an option (1-6): \")\n",
    "\n",
    "        if choice in ['1', '2', '3']:\n",
    "            A = get_matrix(\"Matrix A\")\n",
    "            B = get_matrix(\"Matrix B\")\n",
    "            if A.shape != B.shape and choice in ['1', '2']:\n",
    "                print(\"Matrix dimensions must be same for addition/subtraction.\")\n",
    "                continue\n",
    "            if choice == '1':\n",
    "                print(\"Result:\\n\", A + B)\n",
    "            elif choice == '2':\n",
    "                print(\"Result:\\n\", A - B)\n",
    "            elif choice == '3':\n",
    "                if A.shape[1] != B.shape[0]:\n",
    "                    print(\"Invalid dimensions for multiplication.\")\n",
    "                else:\n",
    "                    print(\"Result:\\n\", A @ B)\n",
    "\n",
    "        elif choice == '4':\n",
    "            A = get_matrix(\"Matrix\")\n",
    "            print(\"Transpose:\\n\", A.T)\n",
    "\n",
    "        elif choice == '5':\n",
    "            A = get_matrix(\"Square Matrix\")\n",
    "            if A.shape[0] != A.shape[1]:\n",
    "                print(\"Determinant requires a square matrix.\")\n",
    "            else:\n",
    "                print(\"Determinant:\", np.linalg.det(A))\n",
    "\n",
    "        elif choice == '6':\n",
    "            print(\"Exiting Matrix Operations Tool.\")\n",
    "            break\n",
    "\n",
    "        else:\n",
    "            print(\"Invalid choice. Try again.\")\n",
    "\n",
    "matrix_operations()"
   ]
  },
  {
   "cell_type": "code",
   "execution_count": null,
   "id": "fb83da7d-3a33-4a88-830d-15f78bde7c84",
   "metadata": {},
   "outputs": [],
   "source": []
  }
 ],
 "metadata": {
  "kernelspec": {
   "display_name": "Python [conda env:base] *",
   "language": "python",
   "name": "conda-base-py"
  },
  "language_info": {
   "codemirror_mode": {
    "name": "ipython",
    "version": 3
   },
   "file_extension": ".py",
   "mimetype": "text/x-python",
   "name": "python",
   "nbconvert_exporter": "python",
   "pygments_lexer": "ipython3",
   "version": "3.11.5"
  }
 },
 "nbformat": 4,
 "nbformat_minor": 5
}
