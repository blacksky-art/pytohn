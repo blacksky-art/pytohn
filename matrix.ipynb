{
 "cells": [
  {
   "cell_type": "code",
   "execution_count": 1,
   "id": "6ce33a09-f948-4534-8595-c6f73f4c457e",
   "metadata": {},
   "outputs": [
    {
     "name": "stdin",
     "output_type": "stream",
     "text": [
      "Enter number of rows for matrix A:  2\n",
      "Enter number of columns for matrix A:  2\n"
     ]
    },
    {
     "name": "stdout",
     "output_type": "stream",
     "text": [
      "Enter elements of matrix A row by row (space-separated):\n"
     ]
    },
    {
     "name": "stdin",
     "output_type": "stream",
     "text": [
      "A Row 1:  1 2\n",
      "A Row 2:  2 3\n",
      "Enter number of rows for matrix B:  2\n",
      "Enter number of columns for matrix B:  2\n"
     ]
    },
    {
     "name": "stdout",
     "output_type": "stream",
     "text": [
      "Enter elements of matrix B row by row (space-separated):\n"
     ]
    },
    {
     "name": "stdin",
     "output_type": "stream",
     "text": [
      "B Row 1:  3 4 \n",
      "B Row 2:  5 7\n"
     ]
    },
    {
     "name": "stdout",
     "output_type": "stream",
     "text": [
      "Addition:\n",
      " [[ 4  6]\n",
      " [ 7 10]]\n",
      "Subtraction:\n",
      " [[-2 -2]\n",
      " [-3 -4]]\n",
      "Multiplication:\n",
      " [[13 18]\n",
      " [21 29]]\n",
      "Transpose A:\n",
      " [[1 2]\n",
      " [2 3]]\n",
      "Determinant A: -1.0\n",
      "\n",
      "Choose an operation:\n",
      "1. Addition\n",
      "2. Subtraction\n",
      "3. Multiplication\n",
      "4. Transpose of A\n",
      "5. Determinant of A\n",
      "6. Exit\n"
     ]
    },
    {
     "name": "stdin",
     "output_type": "stream",
     "text": [
      "Enter your choice:  1\n"
     ]
    },
    {
     "name": "stdout",
     "output_type": "stream",
     "text": [
      "Addition:\n",
      " [[ 4  6]\n",
      " [ 7 10]]\n",
      "\n",
      "Choose an operation:\n",
      "1. Addition\n",
      "2. Subtraction\n",
      "3. Multiplication\n",
      "4. Transpose of A\n",
      "5. Determinant of A\n",
      "6. Exit\n"
     ]
    },
    {
     "name": "stdin",
     "output_type": "stream",
     "text": [
      "Enter your choice:  2\n"
     ]
    },
    {
     "name": "stdout",
     "output_type": "stream",
     "text": [
      "Subtraction:\n",
      " [[-2 -2]\n",
      " [-3 -4]]\n",
      "\n",
      "Choose an operation:\n",
      "1. Addition\n",
      "2. Subtraction\n",
      "3. Multiplication\n",
      "4. Transpose of A\n",
      "5. Determinant of A\n",
      "6. Exit\n"
     ]
    },
    {
     "name": "stdin",
     "output_type": "stream",
     "text": [
      "Enter your choice:  3\n"
     ]
    },
    {
     "name": "stdout",
     "output_type": "stream",
     "text": [
      "Multiplication:\n",
      " [[13 18]\n",
      " [21 29]]\n",
      "\n",
      "Choose an operation:\n",
      "1. Addition\n",
      "2. Subtraction\n",
      "3. Multiplication\n",
      "4. Transpose of A\n",
      "5. Determinant of A\n",
      "6. Exit\n"
     ]
    },
    {
     "name": "stdin",
     "output_type": "stream",
     "text": [
      "Enter your choice:  4\n"
     ]
    },
    {
     "name": "stdout",
     "output_type": "stream",
     "text": [
      "Transpose of A:\n",
      " [[1 2]\n",
      " [2 3]]\n",
      "\n",
      "Choose an operation:\n",
      "1. Addition\n",
      "2. Subtraction\n",
      "3. Multiplication\n",
      "4. Transpose of A\n",
      "5. Determinant of A\n",
      "6. Exit\n"
     ]
    },
    {
     "name": "stdin",
     "output_type": "stream",
     "text": [
      "Enter your choice:  5\n"
     ]
    },
    {
     "name": "stdout",
     "output_type": "stream",
     "text": [
      "Determinant of A: -1.0\n",
      "\n",
      "Choose an operation:\n",
      "1. Addition\n",
      "2. Subtraction\n",
      "3. Multiplication\n",
      "4. Transpose of A\n",
      "5. Determinant of A\n",
      "6. Exit\n"
     ]
    },
    {
     "name": "stdin",
     "output_type": "stream",
     "text": [
      "Enter your choice:  6\n"
     ]
    },
    {
     "name": "stdout",
     "output_type": "stream",
     "text": [
      "Exiting...\n"
     ]
    }
   ],
   "source": [
    "import numpy as np\n",
    "\n",
    "def input_matrix(name):\n",
    "    rows = int(input(f\"Enter number of rows for matrix {name}: \"))\n",
    "    cols = int(input(f\"Enter number of columns for matrix {name}: \"))\n",
    "    print(f\"Enter elements of matrix {name} row by row (space-separated):\")\n",
    "    elements = []\n",
    "    for i in range(rows):\n",
    "        row = list(map(int, input(f\"{name} Row {i+1}: \").split()))\n",
    "        elements.append(row)\n",
    "    return np.array(elements)\n",
    "A = input_matrix('A')\n",
    "B = input_matrix('B')\n",
    "\n",
    "\n",
    "print(\"Addition:\\n\", A + B)\n",
    "print(\"Subtraction:\\n\", A - B)\n",
    "print(\"Multiplication:\\n\", np.dot(A, B))\n",
    "print(\"Transpose A:\\n\", A.T)\n",
    "print(\"Determinant A:\", np.linalg.det(A))  \n",
    "\n",
    "while True:\n",
    "    print(\"\\nChoose an operation:\")\n",
    "    print(\"1. Addition\")\n",
    "    print(\"2. Subtraction\")\n",
    "    print(\"3. Multiplication\")\n",
    "    print(\"4. Transpose of A\")\n",
    "    print(\"5. Determinant of A\")\n",
    "    print(\"6. Exit\")\n",
    "\n",
    "    choice = int(input(\"Enter your choice: \"))\n",
    "\n",
    "           \n",
    "    if choice == 1:\n",
    "        if A.shape == B.shape:\n",
    "            print(\"Addition:\\n\", A + B)\n",
    "        else:\n",
    "            print(\"Error: Matrices must be the same shape for addition.\")\n",
    "\n",
    "    elif choice == 2:\n",
    "        if A.shape == B.shape:\n",
    "            print(\"Subtraction:\\n\", A - B)\n",
    "        else:\n",
    "            print(\"Error: Matrices must be the same shape for subtraction.\")\n",
    "\n",
    "    elif choice == 3:\n",
    "        if A.shape[1] == B.shape[0]:\n",
    "            print(\"Multiplication:\\n\", np.dot(A, B))\n",
    "        else:\n",
    "            print(\"Error: Matrix A columns must match Matrix B rows.\")\n",
    "\n",
    "    elif choice == 4:\n",
    "        print(\"Transpose of A:\\n\", A.T)\n",
    "\n",
    "    elif choice == 5:\n",
    "        if A.shape[0] == A.shape[1]:\n",
    "            print(\"Determinant of A:\", np.linalg.det(A))\n",
    "        else:\n",
    "            print(\"Error: Determinant only defined for square matrices.\")\n",
    "\n",
    "    elif choice == 6:\n",
    "        print(\"Exiting...\")\n",
    "        break\n",
    "\n",
    "    else:\n",
    "        print(\"Invalid choice. Try again.\")"
   ]
  },
  {
   "cell_type": "code",
   "execution_count": null,
   "id": "a63fa336-7315-41d9-a6d0-13a9fec3897d",
   "metadata": {},
   "outputs": [],
   "source": []
  }
 ],
 "metadata": {
  "kernelspec": {
   "display_name": "Python [conda env:base] *",
   "language": "python",
   "name": "conda-base-py"
  },
  "language_info": {
   "codemirror_mode": {
    "name": "ipython",
    "version": 3
   },
   "file_extension": ".py",
   "mimetype": "text/x-python",
   "name": "python",
   "nbconvert_exporter": "python",
   "pygments_lexer": "ipython3",
   "version": "3.11.5"
  }
 },
 "nbformat": 4,
 "nbformat_minor": 5
}
